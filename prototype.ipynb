{
 "cells": [
  {
   "cell_type": "code",
   "execution_count": null,
   "metadata": {},
   "outputs": [],
   "source": [
    "# Notes: This code is inspired by Andrej Karpathy's video series on youtube. \n",
    "# After watching the video once I am attempting to recreate the code from memory. Hopefully I can turn it into something usable as a fun project."
   ]
  },
  {
   "cell_type": "code",
   "execution_count": 5,
   "metadata": {},
   "outputs": [],
   "source": [
    "# import libraries\n",
    "import numpy as np\n",
    "import pandas as pd\n",
    "import matplotlib.pyplot as plt"
   ]
  },
  {
   "cell_type": "code",
   "execution_count": 97,
   "metadata": {},
   "outputs": [],
   "source": [
    "# Value class\n",
    "class Value:\n",
    "    def __init__(self, value, _children=(), _op = \"\"):\n",
    "        self.label = \"Value Object\"\n",
    "        self.value = value\n",
    "        self.grad = 0.0\n",
    "        self._prev = set(_children)\n",
    "        self._operation = _op\n",
    "        \n",
    "    def __add__(self, other):\n",
    "        other = other if isinstance(other, Value) else Value(other) # checks if it is a value at first and if not, it creates a value\n",
    "        out = Value(self.value + other.value, (self, other), \"+\")   # adds just the values of the Value data tyupes\n",
    "        self._prev.add(out)\n",
    "        other._prev.add(out)\n",
    "        return out\n",
    "    \n",
    "    def __mul__(self, other):\n",
    "        other = other if isinstance(other, Value) else Value(other) # checks if it is a value at first and if not, it creates a value\n",
    "        out = Value(self.value * other.value, (self, other), \"*\")\n",
    "        \n",
    "        # add previous to the children\n",
    "        self._prev.add(out)\n",
    "        other._prev.add(out)\n",
    "        return out\n",
    "    \n",
    "    def __repr__(self):\n",
    "        return f'\\n{self.label}: \\n----\\nValue: {self.value}\\nGradient: {self.grad}'"
   ]
  },
  {
   "cell_type": "code",
   "execution_count": 107,
   "metadata": {},
   "outputs": [
    {
     "name": "stdout",
     "output_type": "stream",
     "text": [
      "\n",
      "z: \n",
      "----\n",
      "Value: 30.0\n",
      "Gradient: 0.0\n",
      "\n",
      " {\n",
      "f: \n",
      "----\n",
      "Value: 32.0\n",
      "Gradient: 0.0}\n"
     ]
    }
   ],
   "source": [
    "# Testing out whether Value addition works\n",
    "\n",
    "x = Value(2.0)  ; x.label = 'x'\n",
    "y = Value(3.0)  ; y.label = 'y'\n",
    "j = Value(10.0) ; j.label = 'j'\n",
    "\n",
    "f = x + z   ; f.label = 'f'\n",
    "z = y * j   ; z.label = 'z'\n",
    "\n",
    "print(z)\n",
    "print(\"\\n\", x._prev)\n",
    "\n",
    "# print(z)"
   ]
  },
  {
   "cell_type": "code",
   "execution_count": null,
   "metadata": {},
   "outputs": [],
   "source": []
  }
 ],
 "metadata": {
  "kernelspec": {
   "display_name": "Python 3",
   "language": "python",
   "name": "python3"
  },
  "language_info": {
   "codemirror_mode": {
    "name": "ipython",
    "version": 3
   },
   "file_extension": ".py",
   "mimetype": "text/x-python",
   "name": "python",
   "nbconvert_exporter": "python",
   "pygments_lexer": "ipython3",
   "version": "3.11.4"
  },
  "orig_nbformat": 4
 },
 "nbformat": 4,
 "nbformat_minor": 2
}
