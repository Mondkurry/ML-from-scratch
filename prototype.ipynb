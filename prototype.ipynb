{
 "cells": [
  {
   "cell_type": "code",
   "execution_count": null,
   "metadata": {},
   "outputs": [],
   "source": [
    "# Notes: This code is inspired by Andrej Karpathy's video series on youtube. https://github.com/karpathy/micrograd/blob/master/micrograd/engine.py\n",
    "# After watching the video once I am attempting to recreate the code from memory. Hopefully I can turn it into something usable as a fun project.\n",
    "# - Aryan M"
   ]
  },
  {
   "cell_type": "code",
   "execution_count": 39,
   "metadata": {},
   "outputs": [],
   "source": [
    "# import libraries\n",
    "import numpy as np\n",
    "import pandas as pd\n",
    "import matplotlib.pyplot as plt\n",
    "from utils import plot"
   ]
  },
  {
   "cell_type": "code",
   "execution_count": 34,
   "metadata": {},
   "outputs": [],
   "source": [
    "# Value class\n",
    "class Value:\n",
    "    \n",
    "    \"\"\"Value class that stores a single scalar value and its gradient, also added functions to be able to add/multiply objects.\"\"\"\n",
    "    \n",
    "    def __init__(self, value, _children=(), _op = \"\"):\n",
    "        self.label = \"\"\n",
    "        self.value = value\n",
    "        self.grad = 0.0\n",
    "        self._prev = set(_children)\n",
    "        self._operation = _op\n",
    "        \n",
    "    def __add__(self, other):\n",
    "        other = other if isinstance(other, Value) else Value(other) # checks if it is a value at first and if not, it creates a value\n",
    "        out = Value(self.value + other.value, (self, other), \"+\")   # adds just the values of the Value data tyupes\n",
    "        self._prev.add(out)\n",
    "        other._prev.add(out)\n",
    "        return out\n",
    "    \n",
    "    def __mul__(self, other):\n",
    "        other = other if isinstance(other, Value) else Value(other) # checks if it is a value at first and if not, it creates a value\n",
    "        out = Value(self.value * other.value, (self, other), \"*\")\n",
    "        \n",
    "        # add previous to the children\n",
    "        self._prev.add(out)\n",
    "        other._prev.add(out)\n",
    "        return out\n",
    "    \n",
    "    def __radd__(self, other):\n",
    "        return self.__add__(other)\n",
    "    \n",
    "    def __rmul__(self, other):\n",
    "        return self.__mul__(other)\n",
    "\n",
    "    def __repr__(self):\n",
    "        return f'Value({self.label + \": \" if self.label != \"\" else self.label}Data: {self.value}, Grad: {self.grad})' # Didnt even know you could add functions like that but glad I tried it"
   ]
  },
  {
   "cell_type": "code",
   "execution_count": 15,
   "metadata": {},
   "outputs": [],
   "source": [
    "def printPurple(string): \n",
    "    \"\"\"Literally just prints text in purple.. why not?\"\"\"\n",
    "    print(f'\\033[35m{string}\\033[0m')"
   ]
  },
  {
   "cell_type": "code",
   "execution_count": 16,
   "metadata": {},
   "outputs": [
    {
     "name": "stdout",
     "output_type": "stream",
     "text": [
      "\u001b[35m\n",
      "Value(z: Data: 30.0, Grad: 0.0)\u001b[0m\n",
      "z Previous:  {Value(y: Data: 3.0, Grad: 0.0), Value(j: Data: 10.0, Grad: 0.0), Value(f: Data: 32.0, Grad: 0.0)} \n",
      "\n",
      "\u001b[35mValue(f: Data: 32.0, Grad: 0.0)\u001b[0m\n",
      "f Previous:  {Value(z: Data: 30.0, Grad: 0.0), Value(x: Data: 2.0, Grad: 0.0)}\n",
      "\u001b[35m\n",
      "Testing radd and rmul:\u001b[0m\n",
      "Value(Data: 4.0, Grad: 0.0) \t Value(Data: 4.0, Grad: 0.0)\n",
      "Value(Data: 12.0, Grad: 0.0) \t Value(Data: 12.0, Grad: 0.0)\n",
      "\u001b[35m\n",
      "Dockstring for Value Class: \u001b[0m\n",
      "Value class that stores a single scalar value and its gradient, also added functions to be able to add/multiply objects.\n"
     ]
    }
   ],
   "source": [
    "# Testing the prototype for the Value class\n",
    "\n",
    "x = Value(2.0)  ; x.label = 'x'\n",
    "y = Value(3.0)  ; y.label = 'y'\n",
    "j = Value(10.0) ; j.label = 'j'\n",
    "\n",
    "z = y * j   ; z.label = 'z'\n",
    "f = x + z   ; f.label = 'f'\n",
    "\n",
    "printPurple(f'\\n{z}')\n",
    "print(\"z Previous: \" , z._prev, \"\\n\")\n",
    "printPurple(f)\n",
    "print(\"f Previous: \", f._prev)                  # Added _prev to track children\n",
    "\n",
    "printPurple(\"\\nTesting radd and rmul:\")\n",
    "print(2.0 + x, \"\\t\",x + 2.0)                    # Added radd\n",
    "print(6.0 * x, \"\\t\", x * 6.0)                   # Added rmul\n",
    "\n",
    "printPurple(\"\\nDockstring for Value Class: \")\n",
    "print(Value.__doc__)                            # added docstring"
   ]
  },
  {
   "cell_type": "code",
   "execution_count": 40,
   "metadata": {},
   "outputs": [
    {
     "ename": "TypeError",
     "evalue": "'NoneType' object is not iterable",
     "output_type": "error",
     "traceback": [
      "\u001b[1;31m---------------------------------------------------------------------------\u001b[0m",
      "\u001b[1;31mTypeError\u001b[0m                                 Traceback (most recent call last)",
      "Cell \u001b[1;32mIn[40], line 14\u001b[0m\n\u001b[0;32m     10\u001b[0m     y \u001b[39m=\u001b[39m relu(x)\n\u001b[0;32m     12\u001b[0m     plot(\u001b[39m\"\u001b[39m\u001b[39mReLU Function\u001b[39m\u001b[39m\"\u001b[39m, \u001b[39m\"\u001b[39m\u001b[39mx\u001b[39m\u001b[39m\"\u001b[39m, \u001b[39m\"\u001b[39m\u001b[39my\u001b[39m\u001b[39m\"\u001b[39m, x, y)\n\u001b[1;32m---> 14\u001b[0m reluPlot()\n",
      "Cell \u001b[1;32mIn[40], line 12\u001b[0m, in \u001b[0;36mreluPlot\u001b[1;34m()\u001b[0m\n\u001b[0;32m      9\u001b[0m \u001b[39m# Calculate corresponding y values using the ReLU function\u001b[39;00m\n\u001b[0;32m     10\u001b[0m y \u001b[39m=\u001b[39m relu(x)\n\u001b[1;32m---> 12\u001b[0m plot(\u001b[39m\"\u001b[39;49m\u001b[39mReLU Function\u001b[39;49m\u001b[39m\"\u001b[39;49m, \u001b[39m\"\u001b[39;49m\u001b[39mx\u001b[39;49m\u001b[39m\"\u001b[39;49m, \u001b[39m\"\u001b[39;49m\u001b[39my\u001b[39;49m\u001b[39m\"\u001b[39;49m, x, y)\n",
      "File \u001b[1;32mc:\\Users\\Aryan Mondkar\\Desktop\\code\\Python\\ML-from-scratch\\utils.py:10\u001b[0m, in \u001b[0;36mplot\u001b[1;34m(title, xlabel, ylabel, x, y, legend, grid)\u001b[0m\n\u001b[0;32m      8\u001b[0m plt\u001b[39m.\u001b[39mxlabel(xlabel)\n\u001b[0;32m      9\u001b[0m plt\u001b[39m.\u001b[39mylabel(ylabel)\n\u001b[1;32m---> 10\u001b[0m plt\u001b[39m.\u001b[39;49mlegend(legend)\n\u001b[0;32m     11\u001b[0m plt\u001b[39m.\u001b[39mgrid(grid)\n\u001b[0;32m     12\u001b[0m plt\u001b[39m.\u001b[39mshow()\n",
      "File \u001b[1;32m~\\AppData\\Local\\Packages\\PythonSoftwareFoundation.Python.3.11_qbz5n2kfra8p0\\LocalCache\\local-packages\\Python311\\site-packages\\matplotlib\\pyplot.py:2710\u001b[0m, in \u001b[0;36mlegend\u001b[1;34m(*args, **kwargs)\u001b[0m\n\u001b[0;32m   2708\u001b[0m \u001b[39m@_copy_docstring_and_deprecators\u001b[39m(Axes\u001b[39m.\u001b[39mlegend)\n\u001b[0;32m   2709\u001b[0m \u001b[39mdef\u001b[39;00m \u001b[39mlegend\u001b[39m(\u001b[39m*\u001b[39margs, \u001b[39m*\u001b[39m\u001b[39m*\u001b[39mkwargs):\n\u001b[1;32m-> 2710\u001b[0m     \u001b[39mreturn\u001b[39;00m gca()\u001b[39m.\u001b[39;49mlegend(\u001b[39m*\u001b[39;49margs, \u001b[39m*\u001b[39;49m\u001b[39m*\u001b[39;49mkwargs)\n",
      "File \u001b[1;32m~\\AppData\\Local\\Packages\\PythonSoftwareFoundation.Python.3.11_qbz5n2kfra8p0\\LocalCache\\local-packages\\Python311\\site-packages\\matplotlib\\axes\\_axes.py:312\u001b[0m, in \u001b[0;36mAxes.legend\u001b[1;34m(self, *args, **kwargs)\u001b[0m\n\u001b[0;32m    197\u001b[0m \u001b[39m@_docstring\u001b[39m\u001b[39m.\u001b[39mdedent_interpd\n\u001b[0;32m    198\u001b[0m \u001b[39mdef\u001b[39;00m \u001b[39mlegend\u001b[39m(\u001b[39mself\u001b[39m, \u001b[39m*\u001b[39margs, \u001b[39m*\u001b[39m\u001b[39m*\u001b[39mkwargs):\n\u001b[0;32m    199\u001b[0m \u001b[39m    \u001b[39m\u001b[39m\"\"\"\u001b[39;00m\n\u001b[0;32m    200\u001b[0m \u001b[39m    Place a legend on the Axes.\u001b[39;00m\n\u001b[0;32m    201\u001b[0m \n\u001b[1;32m   (...)\u001b[0m\n\u001b[0;32m    310\u001b[0m \u001b[39m    .. plot:: gallery/text_labels_and_annotations/legend.py\u001b[39;00m\n\u001b[0;32m    311\u001b[0m \u001b[39m    \"\"\"\u001b[39;00m\n\u001b[1;32m--> 312\u001b[0m     handles, labels, extra_args, kwargs \u001b[39m=\u001b[39m mlegend\u001b[39m.\u001b[39;49m_parse_legend_args(\n\u001b[0;32m    313\u001b[0m             [\u001b[39mself\u001b[39;49m],\n\u001b[0;32m    314\u001b[0m             \u001b[39m*\u001b[39;49margs,\n\u001b[0;32m    315\u001b[0m             \u001b[39m*\u001b[39;49m\u001b[39m*\u001b[39;49mkwargs)\n\u001b[0;32m    316\u001b[0m     \u001b[39mif\u001b[39;00m \u001b[39mlen\u001b[39m(extra_args):\n\u001b[0;32m    317\u001b[0m         \u001b[39mraise\u001b[39;00m \u001b[39mTypeError\u001b[39;00m(\u001b[39m'\u001b[39m\u001b[39mlegend only accepts two non-keyword arguments\u001b[39m\u001b[39m'\u001b[39m)\n",
      "File \u001b[1;32m~\\AppData\\Local\\Packages\\PythonSoftwareFoundation.Python.3.11_qbz5n2kfra8p0\\LocalCache\\local-packages\\Python311\\site-packages\\matplotlib\\legend.py:1331\u001b[0m, in \u001b[0;36m_parse_legend_args\u001b[1;34m(axs, handles, labels, *args, **kwargs)\u001b[0m\n\u001b[0;32m   1329\u001b[0m \u001b[39melif\u001b[39;00m \u001b[39mlen\u001b[39m(args) \u001b[39m==\u001b[39m \u001b[39m1\u001b[39m:\n\u001b[0;32m   1330\u001b[0m     labels, \u001b[39m=\u001b[39m args\n\u001b[1;32m-> 1331\u001b[0m     \u001b[39mif\u001b[39;00m \u001b[39many\u001b[39m(\u001b[39misinstance\u001b[39m(l, Artist) \u001b[39mfor\u001b[39;00m l \u001b[39min\u001b[39;00m labels):\n\u001b[0;32m   1332\u001b[0m         \u001b[39mraise\u001b[39;00m \u001b[39mTypeError\u001b[39;00m(\u001b[39m\"\u001b[39m\u001b[39mA single argument passed to legend() must be a \u001b[39m\u001b[39m\"\u001b[39m\n\u001b[0;32m   1333\u001b[0m                         \u001b[39m\"\u001b[39m\u001b[39mlist of labels, but found an Artist in there.\u001b[39m\u001b[39m\"\u001b[39m)\n\u001b[0;32m   1335\u001b[0m     \u001b[39m# Get as many handles as there are labels.\u001b[39;00m\n",
      "\u001b[1;31mTypeError\u001b[0m: 'NoneType' object is not iterable"
     ]
    },
    {
     "data": {
      "image/png": "[encoded data removed]",
      "text/plain": [
       "<Figure size 640x480 with 1 Axes>"
      ]
     },
     "metadata": {},
     "output_type": "display_data"
    }
   ],
   "source": [
    "# making a graphical representation of a Relu function\n",
    "def reluPlot():\n",
    "    def relu(x):\n",
    "        return np.maximum(0, x)\n",
    "\n",
    "    # Generate x values\n",
    "    x = np.linspace(-5, 5, 100)\n",
    "\n",
    "    # Calculate corresponding y values using the ReLU function\n",
    "    y = relu(x)\n",
    "    \n",
    "    plot(\"ReLU Function\", \"x\", \"y\", x, y)\n",
    "    \n",
    "reluPlot()"
   ]
  }
 ],
 "metadata": {
  "kernelspec": {
   "display_name": "Python 3",
   "language": "python",
   "name": "python3"
  },
  "language_info": {
   "codemirror_mode": {
    "name": "ipython",
    "version": 3
   },
   "file_extension": ".py",
   "mimetype": "text/x-python",
   "name": "python",
   "nbconvert_exporter": "python",
   "pygments_lexer": "ipython3",
   "version": "3.11.4"
  },
  "orig_nbformat": 4
 },
 "nbformat": 4,
 "nbformat_minor": 2
}
