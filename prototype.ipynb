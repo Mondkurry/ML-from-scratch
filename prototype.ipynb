{
 "cells": [
  {
   "cell_type": "code",
   "execution_count": null,
   "metadata": {},
   "outputs": [],
   "source": [
    "# Notes: This code is inspired by Andrej Karpathy's video series on youtube. https://github.com/karpathy/micrograd/blob/master/micrograd/engine.py\n",
    "# After watching the video once I am attempting to recreate the code from memory. Hopefully I can turn it into something usable as a fun project.\n",
    "# - Aryan M"
   ]
  },
  {
   "cell_type": "code",
   "execution_count": 159,
   "metadata": {},
   "outputs": [],
   "source": [
    "# import libraries\n",
    "import numpy as np\n",
    "import pandas as pd\n",
    "import matplotlib.pyplot as plt\n",
    "from termcolor import colored, cprint"
   ]
  },
  {
   "cell_type": "code",
   "execution_count": 200,
   "metadata": {},
   "outputs": [],
   "source": [
    "# Value class\n",
    "class Value:\n",
    "    \n",
    "    \"\"\"Value class that stores a single scalar value and its gradient, also added functions to be able to add/multiply objects.\"\"\"\n",
    "    \n",
    "    def __init__(self, value, _children=(), _op = \"\"):\n",
    "        self.label = \"\"\n",
    "        self.value = value\n",
    "        self.grad = 0.0\n",
    "        self._prev = set(_children)\n",
    "        self._operation = _op\n",
    "        \n",
    "    def __add__(self, other):\n",
    "        other = other if isinstance(other, Value) else Value(other) # checks if it is a value at first and if not, it creates a value\n",
    "        out = Value(self.value + other.value, (self, other), \"+\")   # adds just the values of the Value data tyupes\n",
    "        self._prev.add(out)\n",
    "        other._prev.add(out)\n",
    "        return out\n",
    "    \n",
    "    def __mul__(self, other):\n",
    "        other = other if isinstance(other, Value) else Value(other) # checks if it is a value at first and if not, it creates a value\n",
    "        out = Value(self.value * other.value, (self, other), \"*\")\n",
    "        \n",
    "        # add previous to the children\n",
    "        self._prev.add(out)\n",
    "        other._prev.add(out)\n",
    "        return out\n",
    "    \n",
    "    def __radd__(self, other):\n",
    "        return self.__add__(other)\n",
    "    \n",
    "    def __rmul__(self, other):\n",
    "        return self.__mul__(other)\n",
    "\n",
    "    def __repr__(self):\n",
    "        return f'Value({self.label + \": \" if self.label != \"\" else self.label}Data: {self.value}, Grad: {self.grad})' # Didnt even know you could add functions like that but glad I tried it"
   ]
  },
  {
   "cell_type": "code",
   "execution_count": 202,
   "metadata": {},
   "outputs": [],
   "source": [
    "def printPurple(string): \n",
    "    \"\"\"Literally just prints text in purple.. why not?\"\"\"\n",
    "    print(f'\\033[35m{string}\\033[0m')"
   ]
  },
  {
   "cell_type": "code",
   "execution_count": 205,
   "metadata": {},
   "outputs": [
    {
     "name": "stdout",
     "output_type": "stream",
     "text": [
      "\u001b[35m\n",
      "Value(z: Data: 30.0, Grad: 0.0)\u001b[0m\n",
      "z Previous:  {Value(f: Data: 32.0, Grad: 0.0), Value(j: Data: 10.0, Grad: 0.0), Value(y: Data: 3.0, Grad: 0.0)} \n",
      "\n",
      "\u001b[35mValue(f: Data: 32.0, Grad: 0.0)\u001b[0m\n",
      "f Previous:  {Value(z: Data: 30.0, Grad: 0.0), Value(x: Data: 2.0, Grad: 0.0)}\n",
      "\u001b[35m\n",
      "Testing radd and rmul:\u001b[0m\n",
      "Value(Data: 4.0, Grad: 0.0) \t Value(Data: 4.0, Grad: 0.0)\n",
      "Value(Data: 12.0, Grad: 0.0) \t Value(Data: 12.0, Grad: 0.0)\n",
      "\u001b[35m\n",
      "Dockstring for Value Class: \u001b[0m\n",
      "Value class that stores a single scalar value and its gradient, also added functions to be able to add/multiply objects.\n"
     ]
    }
   ],
   "source": [
    "# Testing the prototype for the Value class\n",
    "\n",
    "x = Value(2.0)  ; x.label = 'x'\n",
    "y = Value(3.0)  ; y.label = 'y'\n",
    "j = Value(10.0) ; j.label = 'j'\n",
    "\n",
    "z = y * j   ; z.label = 'z'\n",
    "f = x + z   ; f.label = 'f'\n",
    "\n",
    "printPurple(f'\\n{z}')\n",
    "print(\"z Previous: \" , z._prev, \"\\n\")\n",
    "printPurple(f)\n",
    "print(\"f Previous: \", f._prev)                  # Added _prev to track children\n",
    "\n",
    "printPurple(\"\\nTesting radd and rmul:\")\n",
    "print(2.0 + x, \"\\t\",x + 2.0)                    # Added radd\n",
    "print(6.0 * x, \"\\t\", x * 6.0)                   # Added rmul\n",
    "\n",
    "printPurple(\"\\nDockstring for Value Class: \")\n",
    "print(Value.__doc__)                            # added docstring"
   ]
  },
  {
   "cell_type": "code",
   "execution_count": null,
   "metadata": {},
   "outputs": [],
   "source": [
    "# making a graphical representation"
   ]
  }
 ],
 "metadata": {
  "kernelspec": {
   "display_name": "Python 3",
   "language": "python",
   "name": "python3"
  },
  "language_info": {
   "codemirror_mode": {
    "name": "ipython",
    "version": 3
   },
   "file_extension": ".py",
   "mimetype": "text/x-python",
   "name": "python",
   "nbconvert_exporter": "python",
   "pygments_lexer": "ipython3",
   "version": "3.11.4"
  },
  "orig_nbformat": 4
 },
 "nbformat": 4,
 "nbformat_minor": 2
}
